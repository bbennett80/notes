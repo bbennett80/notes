{
 "cells": [
  {
   "cell_type": "code",
   "execution_count": 1,
   "metadata": {},
   "outputs": [],
   "source": [
    "from enum import Enum\n",
    "import numpy as np\n",
    "\n",
    "UnaryOps = Enum(\"UnaryOps\", [\"RELU\", \"EXP\", \"LOG\", \"NEG\", \"SIGN\"])\n",
    "BinaryOps = Enum(\"BinaryOps\", [\"ADD\", \"SUB\", \"MUL\", \"DIV\", \"POW\", \"CMPEQ\"])\n",
    "\n",
    "x,y = 12, 3\n",
    "\n",
    "def relu(x): return np.maximum(x, 0)\n",
    "def exp(x): return np.exp(x)\n",
    "def log(x): return np.log(x)\n",
    "def neg(x): return -x\n",
    "def sign(x): return np.sign(x)\n",
    "\n",
    "def unary_op(op, x):\n",
    "    ops = {UnaryOps.RELU: relu, UnaryOps.EXP: exp, UnaryOps.LOG: log, UnaryOps.NEG: neg, UnaryOps.SIGN: sign}\n",
    "    if op in ops: return ops[op](x)\n",
    "    else: raise Exception(f\"{op} isn't supported\")\n",
    "\n",
    "def binary_op(op, x, y):\n",
    "    ops = {BinaryOps.ADD: x+y, BinaryOps.SUB: x-y, BinaryOps.MUL: x*y, BinaryOps.DIV: y/x, BinaryOps.POW: x**y, BinaryOps.CMPEQ: 1.0*(x==y)}\n",
    "    if op in ops: return ops[op]\n",
    "    else: raise Exception(f\"{op} isn't supported\")"
   ]
  },
  {
   "cell_type": "code",
   "execution_count": 2,
   "metadata": {},
   "outputs": [
    {
     "data": {
      "text/plain": [
       "-12"
      ]
     },
     "execution_count": 2,
     "metadata": {},
     "output_type": "execute_result"
    }
   ],
   "source": [
    "unary_op(UnaryOps.NEG, x)"
   ]
  },
  {
   "cell_type": "code",
   "execution_count": 3,
   "metadata": {},
   "outputs": [],
   "source": [
    "# binary_op(BinaryOps.MUL, x, y)"
   ]
  },
  {
   "cell_type": "code",
   "execution_count": null,
   "metadata": {},
   "outputs": [],
   "source": []
  }
 ],
 "metadata": {
  "kernelspec": {
   "display_name": "Python 3",
   "language": "python",
   "name": "python3"
  },
  "language_info": {
   "codemirror_mode": {
    "name": "ipython",
    "version": 3
   },
   "file_extension": ".py",
   "mimetype": "text/x-python",
   "name": "python",
   "nbconvert_exporter": "python",
   "pygments_lexer": "ipython3",
   "version": "3.8.5"
  }
 },
 "nbformat": 4,
 "nbformat_minor": 4
}

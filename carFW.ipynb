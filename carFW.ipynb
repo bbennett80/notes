{
 "cells": [
  {
   "cell_type": "code",
   "execution_count": 1,
   "id": "0f6f2220",
   "metadata": {},
   "outputs": [],
   "source": [
    "#results: be44434f27731ff8|2021-10-12--15-38-48--0\n",
    "one = \"\"\"carFw = [\n",
    "      ( ecu = fwdRadar,\n",
    "        fwVersion = \"\\xf1\\000DNhe SCC F-CUP      1.00 1.02 99110-L5000         \",\n",
    "        address = 2000,\n",
    "        subAddress = 0 ),\n",
    "      ( ecu = eps,\n",
    "        fwVersion = \"\\xf1\\x8756310-L5450\\xf1\\000DN8 MDPS C 1.00 1.03 56310-L5450 4DNHC103\\xf1\\xa01.03\",\n",
    "        address = 2004,\n",
    "        subAddress = 0 ),\n",
    "      ( ecu = fwdCamera,\n",
    "        fwVersion = \"\\xf1\\000DN8HMFC  AT USA LHD 1.00 1.06 99211-L1000 210325\",\n",
    "        address = 1988,\n",
    "        subAddress = 0 ),\n",
    "      ( ecu = engine,\n",
    "        fwVersion = \"\\xf1\\x87391162J013\\xf1\\xa0000T\",\n",
    "        address = 2016,\n",
    "        subAddress = 0 ),\n",
    "      ( ecu = transmission,\n",
    "        fwVersion = \"\\xf1\\000PSBG2333  E16\\000\\000\\000\\000\\000\\000\\000TDN2H20SA7\\0323\\xf9\\xab\",\n",
    "        address = 2017,\n",
    "        subAddress = 0 ) ],\"\"\"\n"
   ]
  },
  {
   "cell_type": "code",
   "execution_count": 2,
   "id": "198acc3a",
   "metadata": {},
   "outputs": [],
   "source": [
    "#no results"
   ]
  },
  {
   "cell_type": "code",
   "execution_count": 3,
   "id": "ec662752",
   "metadata": {},
   "outputs": [],
   "source": [
    "# results: be44434f27731ff8|2021-10-12--17-37-48--0\n",
    "two = \"\"\"carFw = [\n",
    "      ( ecu = eps,\n",
    "        fwVersion = \"\\xf1\\x8756310-L5450\\xf1\\000DN8 MDPS C 1.00 1.03 56310-L5450 4DNHC103\",\n",
    "        address = 2004,\n",
    "        subAddress = 0 ),\n",
    "      ( ecu = transmission,\n",
    "        fwVersion = \"\\xf1\\x87PCU\\000\\000\\000\\000\\000\\000\\000\\000\\000\\xf1\\x81E16\\000\\000\\000\\000\\000\\000\\000\\xf1\\000PSBG2333  E16\\000\\000\\000\\000\\000\\000\\000TDN2H20SA7\\0323\\xf9\\xab\",\n",
    "        address = 2017,\n",
    "        subAddress = 0 ),\n",
    "      ( ecu = fwdRadar,\n",
    "        fwVersion = \"\\xf1\\x8799110L5000\\xf1\\000DNhe SCC F-CUP      1.00 1.02 99110-L5000         \",\n",
    "        address = 2000,\n",
    "        subAddress = 0 ),\n",
    "      ( ecu = fwdCamera,\n",
    "        fwVersion = \"\\xf1\\000DN8HMFC  AT USA LHD 1.00 1.06 99211-L1000 210325\",\n",
    "        address = 1988,\n",
    "        subAddress = 0 ),\n",
    "      ( ecu = engine,\n",
    "        fwVersion = \"\\xf1\\x87391162J013\",\n",
    "        address = 2016,\n",
    "        subAddress = 0 ) ],\"\"\"\n"
   ]
  },
  {
   "cell_type": "code",
   "execution_count": 4,
   "id": "180dad07",
   "metadata": {},
   "outputs": [],
   "source": [
    "# results: be44434f27731ff8|2021-10-12--17-41-15--0\n",
    "three = \"\"\"carFw = [\n",
    "      ( ecu = eps,\n",
    "        fwVersion = \"\\xf1\\x8756310-L5450\\xf1\\000DN8 MDPS C 1.00 1.03 56310-L5450 4DNHC103\",\n",
    "        address = 2004,\n",
    "        subAddress = 0 ),\n",
    "      ( ecu = transmission,\n",
    "        fwVersion = \"\\xf1\\x87PCU\\000\\000\\000\\000\\000\\000\\000\\000\\000\\xf1\\x81E16\\000\\000\\000\\000\\000\\000\\000\\xf1\\000PSBG2333  E16\\000\\000\\000\\000\\000\\000\\000TDN2H20SA7\\0323\\xf9\\xab\",\n",
    "        address = 2017,\n",
    "        subAddress = 0 ),\n",
    "      ( ecu = fwdRadar,\n",
    "        fwVersion = \"\\xf1\\x8799110L5000\\xf1\\000DNhe SCC F-CUP      1.00 1.02 99110-L5000         \",\n",
    "        address = 2000,\n",
    "        subAddress = 0 ),\n",
    "      ( ecu = fwdCamera,\n",
    "        fwVersion = \"\\xf1\\000DN8HMFC  AT USA LHD 1.00 1.06 99211-L1000 210325\",\n",
    "        address = 1988,\n",
    "        subAddress = 0 ),\n",
    "      ( ecu = engine,\n",
    "        fwVersion = \"\\xf1\\x87391162J013\",\n",
    "        address = 2016,\n",
    "        subAddress = 0 ) ],\"\"\"\n"
   ]
  },
  {
   "cell_type": "code",
   "execution_count": 5,
   "id": "286b4533",
   "metadata": {},
   "outputs": [],
   "source": [
    "# results: be44434f27731ff8|2021-10-12--17-57-47--0\n",
    "four = \"\"\"carFw = [\n",
    "      ( ecu = eps,\n",
    "        fwVersion = \"\\xf1\\x8756310-L5450\\xf1\\000DN8 MDPS C 1.00 1.03 56310-L5450 4DNHC103\",\n",
    "        address = 2004,\n",
    "        subAddress = 0 ),\n",
    "      ( ecu = transmission,\n",
    "        fwVersion = \"\\xf1\\x87PCU\\000\\000\\000\\000\\000\\000\\000\\000\\000\\xf1\\x81E16\\000\\000\\000\\000\\000\\000\\000\\xf1\\000PSBG2333  E16\\000\\000\\000\\000\\000\\000\\000TDN2H20SA7\\0323\\xf9\\xab\",\n",
    "        address = 2017,\n",
    "        subAddress = 0 ),\n",
    "      ( ecu = fwdRadar,\n",
    "        fwVersion = \"\\xf1\\x8799110L5000\\xf1\\000DNhe SCC F-CUP      1.00 1.02 99110-L5000         \",\n",
    "        address = 2000,\n",
    "        subAddress = 0 ),\n",
    "      ( ecu = fwdCamera,\n",
    "        fwVersion = \"\\xf1\\000DN8HMFC  AT USA LHD 1.00 1.06 99211-L1000 210325\",\n",
    "        address = 1988,\n",
    "        subAddress = 0 ),\n",
    "      ( ecu = engine,\n",
    "        fwVersion = \"\\xf1\\x87391162J013\",\n",
    "        address = 2016,\n",
    "        subAddress = 0 ) ],\"\"\"\n"
   ]
  },
  {
   "cell_type": "code",
   "execution_count": 6,
   "id": "5ce88294",
   "metadata": {},
   "outputs": [],
   "source": [
    "# results: be44434f27731ff8|2021-10-12--18-00-14--0\n",
    "five = \"\"\"carFw = [\n",
    "      ( ecu = eps,\n",
    "        fwVersion = \"\\xf1\\x8756310-L5450\\xf1\\000DN8 MDPS C 1.00 1.03 56310-L5450 4DNHC103\",\n",
    "        address = 2004,\n",
    "        subAddress = 0 ),\n",
    "      ( ecu = transmission,\n",
    "        fwVersion = \"\\xf1\\x87PCU\\000\\000\\000\\000\\000\\000\\000\\000\\000\\xf1\\x81E16\\000\\000\\000\\000\\000\\000\\000\\xf1\\000PSBG2333  E16\\000\\000\\000\\000\\000\\000\\000TDN2H20SA7\\0323\\xf9\\xab\",\n",
    "        address = 2017,\n",
    "        subAddress = 0 ),\n",
    "      ( ecu = fwdRadar,\n",
    "        fwVersion = \"\\xf1\\x8799110L5000\\xf1\\000DNhe SCC F-CUP      1.00 1.02 99110-L5000         \",\n",
    "        address = 2000,\n",
    "        subAddress = 0 ),\n",
    "      ( ecu = fwdCamera,\n",
    "        fwVersion = \"\\xf1\\000DN8HMFC  AT USA LHD 1.00 1.06 99211-L1000 210325\",\n",
    "        address = 1988,\n",
    "        subAddress = 0 ),\n",
    "      ( ecu = engine,\n",
    "        fwVersion = \"\\xf1\\x87391162J013\",\n",
    "        address = 2016,\n",
    "        subAddress = 0 ) ],\"\"\"\n"
   ]
  },
  {
   "cell_type": "code",
   "execution_count": 7,
   "id": "a6b57fce",
   "metadata": {},
   "outputs": [],
   "source": [
    "# results: be44434f27731ff8|2021-10-12--18-03-02--0\n",
    "six = \"\"\"carFw = [\n",
    "      ( ecu = eps,\n",
    "        fwVersion = \"\\xf1\\x8756310-L5450\\xf1\\000DN8 MDPS C 1.00 1.03 56310-L5450 4DNHC103\",\n",
    "        address = 2004,\n",
    "        subAddress = 0 ),\n",
    "      ( ecu = transmission,\n",
    "        fwVersion = \"\\xf1\\x87PCU\\000\\000\\000\\000\\000\\000\\000\\000\\000\\xf1\\x81E16\\000\\000\\000\\000\\000\\000\\000\\xf1\\000PSBG2333  E16\\000\\000\\000\\000\\000\\000\\000TDN2H20SA7\\0323\\xf9\\xab\",\n",
    "        address = 2017,\n",
    "        subAddress = 0 ),\n",
    "      ( ecu = fwdRadar,\n",
    "        fwVersion = \"\\xf1\\x8799110L5000\\xf1\\000DNhe SCC F-CUP      1.00 1.02 99110-L5000         \",\n",
    "        address = 2000,\n",
    "        subAddress = 0 ),\n",
    "      ( ecu = fwdCamera,\n",
    "        fwVersion = \"\\xf1\\000DN8HMFC  AT USA LHD 1.00 1.06 99211-L1000 210325\",\n",
    "        address = 1988,\n",
    "        subAddress = 0 ),\n",
    "      ( ecu = engine,\n",
    "        fwVersion = \"\\xf1\\x87391162J013\",\n",
    "        address = 2016,\n",
    "        subAddress = 0 ) ],\"\"\"\n"
   ]
  },
  {
   "cell_type": "code",
   "execution_count": 8,
   "id": "f5e265f9",
   "metadata": {},
   "outputs": [],
   "source": [
    "# results: be44434f27731ff8|2021-10-13--09-24-59--0\n",
    "seven = \"\"\"carFw = [\n",
    "      ( ecu = eps,\n",
    "        fwVersion = \"\\xf1\\x8756310-L5450\\xf1\\000DN8 MDPS C 1.00 1.03 56310-L5450 4DNHC103\",\n",
    "        address = 2004,\n",
    "        subAddress = 0 ),\n",
    "      ( ecu = transmission,\n",
    "        fwVersion = \"\\xf1\\x87PCU\\000\\000\\000\\000\\000\\000\\000\\000\\000\\xf1\\x81E16\\000\\000\\000\\000\\000\\000\\000\\xf1\\000PSBG2333  E16\\000\\000\\000\\000\\000\\000\\000TDN2H20SA7\\0323\\xf9\\xab\",\n",
    "        address = 2017,\n",
    "        subAddress = 0 ),\n",
    "      ( ecu = fwdRadar,\n",
    "        fwVersion = \"\\xf1\\x8799110L5000\\xf1\\000DNhe SCC F-CUP      1.00 1.02 99110-L5000         \",\n",
    "        address = 2000,\n",
    "        subAddress = 0 ),\n",
    "      ( ecu = fwdCamera,\n",
    "        fwVersion = \"\\xf1\\000DN8HMFC  AT USA LHD 1.00 1.06 99211-L1000 210325\",\n",
    "        address = 1988,\n",
    "        subAddress = 0 ),\n",
    "      ( ecu = engine,\n",
    "        fwVersion = \"\\xf1\\x87391162J013\",\n",
    "        address = 2016,\n",
    "        subAddress = 0 ) ],\"\"\"\n"
   ]
  },
  {
   "cell_type": "code",
   "execution_count": 9,
   "id": "69815fd5",
   "metadata": {},
   "outputs": [],
   "source": [
    "# results: be44434f27731ff8|2021-10-13--20-05-13--30\n",
    "eight = \"\"\"carFw = [\n",
    "      ( ecu = eps,\n",
    "        fwVersion = \"\\xf1\\x8756310-L5450\\xf1\\000DN8 MDPS C 1.00 1.03 56310-L5450 4DNHC103\",\n",
    "        address = 2004,\n",
    "        subAddress = 0 ),\n",
    "      ( ecu = transmission,\n",
    "        fwVersion = \"\\xf1\\x87PCU\\000\\000\\000\\000\\000\\000\\000\\000\\000\\xf1\\x81E16\\000\\000\\000\\000\\000\\000\\000\\xf1\\000PSBG2333  E16\\000\\000\\000\\000\\000\\000\\000TDN2H20SA7\\0323\\xf9\\xab\",\n",
    "        address = 2017,\n",
    "        subAddress = 0 ),\n",
    "      ( ecu = fwdRadar,\n",
    "        fwVersion = \"\\xf1\\x8799110L5000\\xf1\\000DNhe SCC F-CUP      1.00 1.02 99110-L5000         \",\n",
    "        address = 2000,\n",
    "        subAddress = 0 ),\n",
    "      ( ecu = fwdCamera,\n",
    "        fwVersion = \"\\xf1\\000DN8HMFC  AT USA LHD 1.00 1.06 99211-L1000 210325\",\n",
    "        address = 1988,\n",
    "        subAddress = 0 ),\n",
    "      ( ecu = engine,\n",
    "        fwVersion = \"\\xf1\\x87391162J013\",\n",
    "        address = 2016,\n",
    "        subAddress = 0 ) ],\"\"\"\n"
   ]
  },
  {
   "cell_type": "code",
   "execution_count": 10,
   "id": "e612e4b1",
   "metadata": {},
   "outputs": [
    {
     "data": {
      "text/plain": [
       "True"
      ]
     },
     "execution_count": 10,
     "metadata": {},
     "output_type": "execute_result"
    }
   ],
   "source": [
    "eight == seven == six == five == four == three == two"
   ]
  },
  {
   "cell_type": "code",
   "execution_count": 11,
   "id": "3f170f6b",
   "metadata": {},
   "outputs": [
    {
     "data": {
      "text/plain": [
       "False"
      ]
     },
     "execution_count": 11,
     "metadata": {},
     "output_type": "execute_result"
    }
   ],
   "source": [
    "eight == seven == six == five == four == three == two == one"
   ]
  }
 ],
 "metadata": {
  "kernelspec": {
   "display_name": "Python 3",
   "language": "python",
   "name": "python3"
  },
  "language_info": {
   "codemirror_mode": {
    "name": "ipython",
    "version": 3
   },
   "file_extension": ".py",
   "mimetype": "text/x-python",
   "name": "python",
   "nbconvert_exporter": "python",
   "pygments_lexer": "ipython3",
   "version": "3.9.0"
  }
 },
 "nbformat": 4,
 "nbformat_minor": 5
}

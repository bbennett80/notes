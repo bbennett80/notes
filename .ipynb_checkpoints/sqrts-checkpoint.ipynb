{
 "cells": [
  {
   "cell_type": "code",
   "execution_count": 1,
   "id": "b35d6c17",
   "metadata": {},
   "outputs": [],
   "source": [
    "import numpy as np\n",
    "import math"
   ]
  },
  {
   "cell_type": "code",
   "execution_count": 2,
   "id": "9bd0dc0f",
   "metadata": {},
   "outputs": [],
   "source": [
    "x = 1234.5678"
   ]
  },
  {
   "cell_type": "code",
   "execution_count": 3,
   "id": "0b11ecbd",
   "metadata": {},
   "outputs": [
    {
     "data": {
      "text/plain": [
       "35.13641700572214"
      ]
     },
     "execution_count": 3,
     "metadata": {},
     "output_type": "execute_result"
    }
   ],
   "source": [
    "np.sqrt(x)"
   ]
  },
  {
   "cell_type": "code",
   "execution_count": 4,
   "id": "73f5bf3f",
   "metadata": {},
   "outputs": [
    {
     "data": {
      "text/plain": [
       "35.13641700572214"
      ]
     },
     "execution_count": 4,
     "metadata": {},
     "output_type": "execute_result"
    }
   ],
   "source": [
    "math.sqrt(x)"
   ]
  },
  {
   "cell_type": "code",
   "execution_count": 5,
   "id": "92430c71",
   "metadata": {},
   "outputs": [
    {
     "data": {
      "text/plain": [
       "35.13641700572214"
      ]
     },
     "execution_count": 5,
     "metadata": {},
     "output_type": "execute_result"
    }
   ],
   "source": [
    "x**0.5"
   ]
  },
  {
   "cell_type": "code",
   "execution_count": 6,
   "id": "e5681f00",
   "metadata": {},
   "outputs": [
    {
     "name": "stdout",
     "output_type": "stream",
     "text": [
      "910 ns ± 2.85 ns per loop (mean ± std. dev. of 10 runs, 1000000 loops each)\n"
     ]
    }
   ],
   "source": [
    "%timeit -n 1000000 -r 10 np.sqrt(x)"
   ]
  },
  {
   "cell_type": "code",
   "execution_count": 7,
   "id": "ce3f742f",
   "metadata": {},
   "outputs": [
    {
     "name": "stdout",
     "output_type": "stream",
     "text": [
      "156 ns ± 2.22 ns per loop (mean ± std. dev. of 10 runs, 1000000 loops each)\n"
     ]
    }
   ],
   "source": [
    "%timeit -n 1000000 -r 10 math.sqrt(x)"
   ]
  },
  {
   "cell_type": "code",
   "execution_count": 8,
   "id": "7f58173b",
   "metadata": {},
   "outputs": [
    {
     "name": "stdout",
     "output_type": "stream",
     "text": [
      "176 ns ± 5.48 ns per loop (mean ± std. dev. of 10 runs, 1000000 loops each)\n"
     ]
    }
   ],
   "source": [
    "%timeit -n 1000000 -r 10 x**0.5"
   ]
  },
  {
   "cell_type": "code",
   "execution_count": null,
   "id": "1d892440",
   "metadata": {},
   "outputs": [],
   "source": []
  },
  {
   "cell_type": "code",
   "execution_count": null,
   "id": "1effcecf",
   "metadata": {},
   "outputs": [],
   "source": []
  },
  {
   "cell_type": "code",
   "execution_count": 9,
   "id": "f097d2a3",
   "metadata": {},
   "outputs": [],
   "source": [
    "from numpy import sqrt as npsqrt\n",
    "from math import sqrt as mathsqrt"
   ]
  },
  {
   "cell_type": "code",
   "execution_count": 10,
   "id": "188ef317",
   "metadata": {},
   "outputs": [],
   "source": [
    "x = 1234.5678"
   ]
  },
  {
   "cell_type": "code",
   "execution_count": 11,
   "id": "9752ccfe",
   "metadata": {},
   "outputs": [
    {
     "data": {
      "text/plain": [
       "35.13641700572214"
      ]
     },
     "execution_count": 11,
     "metadata": {},
     "output_type": "execute_result"
    }
   ],
   "source": [
    "np.sqrt(x)"
   ]
  },
  {
   "cell_type": "code",
   "execution_count": 12,
   "id": "5a2077c0",
   "metadata": {},
   "outputs": [
    {
     "data": {
      "text/plain": [
       "35.13641700572214"
      ]
     },
     "execution_count": 12,
     "metadata": {},
     "output_type": "execute_result"
    }
   ],
   "source": [
    "math.sqrt(x)"
   ]
  },
  {
   "cell_type": "code",
   "execution_count": 13,
   "id": "188d7173",
   "metadata": {},
   "outputs": [
    {
     "data": {
      "text/plain": [
       "35.13641700572214"
      ]
     },
     "execution_count": 13,
     "metadata": {},
     "output_type": "execute_result"
    }
   ],
   "source": [
    "x**0.5"
   ]
  },
  {
   "cell_type": "code",
   "execution_count": 14,
   "id": "e3b35e5a",
   "metadata": {},
   "outputs": [
    {
     "name": "stdout",
     "output_type": "stream",
     "text": [
      "842 ns ± 4.32 ns per loop (mean ± std. dev. of 10 runs, 1000000 loops each)\n"
     ]
    }
   ],
   "source": [
    "%timeit -n 1000000 -r 10 npsqrt(x)"
   ]
  },
  {
   "cell_type": "code",
   "execution_count": 15,
   "id": "c2b81626",
   "metadata": {},
   "outputs": [
    {
     "name": "stdout",
     "output_type": "stream",
     "text": [
      "125 ns ± 2.61 ns per loop (mean ± std. dev. of 10 runs, 1000000 loops each)\n"
     ]
    }
   ],
   "source": [
    "%timeit -n 1000000 -r 10 mathsqrt(x)"
   ]
  },
  {
   "cell_type": "code",
   "execution_count": 16,
   "id": "c9c8933f",
   "metadata": {},
   "outputs": [
    {
     "name": "stdout",
     "output_type": "stream",
     "text": [
      "177 ns ± 1.46 ns per loop (mean ± std. dev. of 10 runs, 1000000 loops each)\n"
     ]
    }
   ],
   "source": [
    "%timeit -n 1000000 -r 10 x**0.5"
   ]
  },
  {
   "cell_type": "code",
   "execution_count": 18,
   "id": "29e4a5a0",
   "metadata": {},
   "outputs": [
    {
     "name": "stdout",
     "output_type": "stream",
     "text": [
      "11.5 µs ± 23.3 ns per loop (mean ± std. dev. of 10 runs, 1000000 loops each)\n"
     ]
    }
   ],
   "source": [
    "%timeit -n 1000000 -r 10 for i in range(1, 11): npsqrt(i)"
   ]
  },
  {
   "cell_type": "code",
   "execution_count": 19,
   "id": "0cf87471",
   "metadata": {},
   "outputs": [
    {
     "name": "stdout",
     "output_type": "stream",
     "text": [
      "1.59 µs ± 9.82 ns per loop (mean ± std. dev. of 10 runs, 1000000 loops each)\n"
     ]
    }
   ],
   "source": [
    "%timeit -n 1000000 -r 10 for i in range(1, 11): mathsqrt(i)"
   ]
  },
  {
   "cell_type": "code",
   "execution_count": 20,
   "id": "581d8434",
   "metadata": {},
   "outputs": [
    {
     "name": "stdout",
     "output_type": "stream",
     "text": [
      "1.98 µs ± 3.96 ns per loop (mean ± std. dev. of 10 runs, 1000000 loops each)\n"
     ]
    }
   ],
   "source": [
    "%timeit -n 1000000 -r 10 for i in range(1, 11): i**0.5"
   ]
  },
  {
   "cell_type": "code",
   "execution_count": null,
   "id": "64292290",
   "metadata": {},
   "outputs": [],
   "source": []
  }
 ],
 "metadata": {
  "kernelspec": {
   "display_name": "Python 3",
   "language": "python",
   "name": "python3"
  },
  "language_info": {
   "codemirror_mode": {
    "name": "ipython",
    "version": 3
   },
   "file_extension": ".py",
   "mimetype": "text/x-python",
   "name": "python",
   "nbconvert_exporter": "python",
   "pygments_lexer": "ipython3",
   "version": "3.9.0"
  }
 },
 "nbformat": 4,
 "nbformat_minor": 5
}

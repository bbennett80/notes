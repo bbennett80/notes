{
 "cells": [
  {
   "cell_type": "code",
   "execution_count": 1,
   "id": "6678719d",
   "metadata": {},
   "outputs": [],
   "source": [
    "import sympy as sp\n",
    "import numpy as np\n",
    "import math"
   ]
  },
  {
   "cell_type": "code",
   "execution_count": 2,
   "id": "15e6fb4b",
   "metadata": {},
   "outputs": [
    {
     "name": "stdout",
     "output_type": "stream",
     "text": [
      "1.58 µs ± 17.1 ns per loop (mean ± std. dev. of 10 runs, 100000 loops each)\n"
     ]
    }
   ],
   "source": [
    "%timeit -n 100000 -r 10 sp.sqrt(100)"
   ]
  },
  {
   "cell_type": "code",
   "execution_count": 3,
   "id": "7c8fa79b",
   "metadata": {},
   "outputs": [
    {
     "name": "stdout",
     "output_type": "stream",
     "text": [
      "966 ns ± 18.2 ns per loop (mean ± std. dev. of 10 runs, 100000 loops each)\n"
     ]
    }
   ],
   "source": [
    "%timeit -n 100000 -r 10 np.sqrt(100)"
   ]
  },
  {
   "cell_type": "code",
   "execution_count": 4,
   "id": "efadeca9",
   "metadata": {},
   "outputs": [
    {
     "name": "stdout",
     "output_type": "stream",
     "text": [
      "132 ns ± 8.03 ns per loop (mean ± std. dev. of 10 runs, 100000 loops each)\n"
     ]
    }
   ],
   "source": [
    "%timeit -n 100000 -r 10 math.sqrt(100)"
   ]
  },
  {
   "cell_type": "code",
   "execution_count": 5,
   "id": "1d112c0c",
   "metadata": {},
   "outputs": [
    {
     "name": "stdout",
     "output_type": "stream",
     "text": [
      "12.3 ns ± 4.86 ns per loop (mean ± std. dev. of 10 runs, 100000 loops each)\n"
     ]
    }
   ],
   "source": [
    "%timeit -n 100000 -r 10 100. ** 0.5"
   ]
  },
  {
   "cell_type": "code",
   "execution_count": 12,
   "id": "0ab165cf",
   "metadata": {},
   "outputs": [
    {
     "ename": "NameError",
     "evalue": "name 'flaot' is not defined",
     "output_type": "error",
     "traceback": [
      "\u001b[1;31m---------------------------------------------------------------------------\u001b[0m",
      "\u001b[1;31mNameError\u001b[0m                                 Traceback (most recent call last)",
      "\u001b[1;32m<ipython-input-12-5bf86df88d86>\u001b[0m in \u001b[0;36m<module>\u001b[1;34m\u001b[0m\n\u001b[0;32m      3\u001b[0m     [-6, 7, 11, 19]]\n\u001b[0;32m      4\u001b[0m \u001b[0mA\u001b[0m \u001b[1;33m=\u001b[0m \u001b[0mnp\u001b[0m\u001b[1;33m.\u001b[0m\u001b[0marray\u001b[0m\u001b[1;33m(\u001b[0m\u001b[0mA\u001b[0m\u001b[1;33m)\u001b[0m\u001b[1;33m\u001b[0m\u001b[1;33m\u001b[0m\u001b[0m\n\u001b[1;32m----> 5\u001b[1;33m \u001b[0mflaot\u001b[0m\u001b[1;33m(\u001b[0m\u001b[0mA\u001b[0m\u001b[1;33m)\u001b[0m\u001b[1;33m**\u001b[0m\u001b[1;36m0.5\u001b[0m\u001b[1;33m\u001b[0m\u001b[1;33m\u001b[0m\u001b[0m\n\u001b[0m",
      "\u001b[1;31mNameError\u001b[0m: name 'flaot' is not defined"
     ]
    }
   ],
   "source": [
    "A = [[1, 4, 5, 12], \n",
    "    [-5, 8, 9, 0],\n",
    "    [-6, 7, 11, 19]]\n",
    "A = np.array(A)\n",
    "float(A)**0.5"
   ]
  },
  {
   "cell_type": "code",
   "execution_count": null,
   "id": "04df7cd1",
   "metadata": {},
   "outputs": [],
   "source": []
  },
  {
   "cell_type": "code",
   "execution_count": 8,
   "id": "b4841312",
   "metadata": {},
   "outputs": [
    {
     "ename": "NameError",
     "evalue": "name 'geodetic' is not defined",
     "output_type": "error",
     "traceback": [
      "\u001b[1;31m---------------------------------------------------------------------------\u001b[0m",
      "\u001b[1;31mNameError\u001b[0m                                 Traceback (most recent call last)",
      "\u001b[1;32m<ipython-input-8-4253e3c28c18>\u001b[0m in \u001b[0;36m<module>\u001b[1;34m\u001b[0m\n\u001b[0;32m     29\u001b[0m   \u001b[1;32mreturn\u001b[0m \u001b[0mecef\u001b[0m\u001b[1;33m.\u001b[0m\u001b[0mreshape\u001b[0m\u001b[1;33m(\u001b[0m\u001b[0minput_shape\u001b[0m\u001b[1;33m)\u001b[0m\u001b[1;33m\u001b[0m\u001b[1;33m\u001b[0m\u001b[0m\n\u001b[0;32m     30\u001b[0m \u001b[1;33m\u001b[0m\u001b[0m\n\u001b[1;32m---> 31\u001b[1;33m \u001b[0mgeodetic2ecef\u001b[0m\u001b[1;33m(\u001b[0m\u001b[0mgeodetic\u001b[0m\u001b[1;33m,\u001b[0m \u001b[0mradians\u001b[0m\u001b[1;33m=\u001b[0m\u001b[1;32mFalse\u001b[0m\u001b[1;33m)\u001b[0m\u001b[1;33m\u001b[0m\u001b[1;33m\u001b[0m\u001b[0m\n\u001b[0m",
      "\u001b[1;31mNameError\u001b[0m: name 'geodetic' is not defined"
     ]
    }
   ],
   "source": [
    "import numpy as np\n",
    "\"\"\"\n",
    "Coordinate transformation module. All methods accept arrays as input\n",
    "with each row as a position.\n",
    "\"\"\"\n",
    "\n",
    "\n",
    "a = 6378137\n",
    "b = 6356752.3142\n",
    "esq = 6.69437999014 * 0.001\n",
    "e1sq = 6.73949674228 * 0.001\n",
    "\n",
    "\n",
    "def geodetic2ecef(geodetic, radians=False):\n",
    "  geodetic = np.array(geodetic)\n",
    "  input_shape = geodetic.shape\n",
    "  geodetic = np.atleast_2d(geodetic)\n",
    "\n",
    "  ratio = 1.0 if radians else (np.pi / 180.0)\n",
    "  lat = ratio*geodetic[:,0]\n",
    "  lon = ratio*geodetic[:,1]\n",
    "  alt = geodetic[:,2]\n",
    "\n",
    "  xi = np.sqrt(1 - esq * np.sin(lat)**2)\n",
    "  x = (a / xi + alt) * np.cos(lat) * np.cos(lon)\n",
    "  y = (a / xi + alt) * np.cos(lat) * np.sin(lon)\n",
    "  z = (a / xi * (1 - esq) + alt) * np.sin(lat)\n",
    "  ecef = np.array([x, y, z]).T\n",
    "  return ecef.reshape(input_shape)\n",
    "\n",
    "geodetic2ecef(geodetic, radians=False)\n"
   ]
  },
  {
   "cell_type": "code",
   "execution_count": null,
   "id": "a011b20c",
   "metadata": {},
   "outputs": [],
   "source": []
  },
  {
   "cell_type": "code",
   "execution_count": 7,
   "id": "a2fb9e9f",
   "metadata": {},
   "outputs": [],
   "source": [
    "def ecef2geodetic(ecef, radians=False):\n",
    "  \"\"\"\n",
    "  Convert ECEF coordinates to geodetic using ferrari's method\n",
    "  \"\"\"\n",
    "  # Save shape and export column\n",
    "  ecef = np.atleast_1d(ecef)\n",
    "  input_shape = ecef.shape\n",
    "  ecef = np.atleast_2d(ecef)\n",
    "  x, y, z = ecef[:, 0], ecef[:, 1], ecef[:, 2]\n",
    "\n",
    "  ratio = 1.0 if radians else (180.0 / np.pi)\n",
    "\n",
    "  # Conver from ECEF to geodetic using Ferrari's methods\n",
    "  # https://en.wikipedia.org/wiki/Geographic_coordinate_conversion#Ferrari.27s_solution\n",
    "  r = np.sqrt(x * x + y * y)\n",
    "  Esq = a * a - b * b\n",
    "  F = 54 * b * b * z * z\n",
    "  G = r * r + (1 - esq) * z * z - esq * Esq\n",
    "  C = (esq * esq * F * r * r) / (pow(G, 3))\n",
    "  S = np.cbrt(1 + C + np.sqrt(C * C + 2 * C))\n",
    "  P = F / (3 * pow((S + 1 / S + 1), 2) * G * G)\n",
    "  Q = np.sqrt(1 + 2 * esq * esq * P)\n",
    "  r_0 =  -(P * esq * r) / (1 + Q) + np.sqrt(0.5 * a * a*(1 + 1.0 / Q) - \\\n",
    "        P * (1 - esq) * z * z / (Q * (1 + Q)) - 0.5 * P * r * r)\n",
    "  U = np.sqrt(pow((r - esq * r_0), 2) + z * z)\n",
    "  V = np.sqrt(pow((r - esq * r_0), 2) + (1 - esq) * z * z)\n",
    "  Z_0 = b * b * z / (a * V)\n",
    "  h = U * (1 - b * b / (a * V))\n",
    "  lat = ratio*np.arctan((z + e1sq * Z_0) / r)\n",
    "  lon = ratio*np.arctan2(y, x)\n",
    "\n",
    "  # stack the new columns and return to the original shape\n",
    "  geodetic = np.column_stack((lat, lon, h))\n",
    "  return geodetic.reshape(input_shape)\n",
    "\n",
    "class LocalCoord(object):\n",
    "  \"\"\"\n",
    "   Allows conversions to local frames. In this case NED.\n",
    "   That is: North East Down from the start position in\n",
    "   meters.\n",
    "  \"\"\"\n",
    "  def __init__(self, init_geodetic, init_ecef):\n",
    "    self.init_ecef = init_ecef\n",
    "    lat, lon, _ = (np.pi/180)*np.array(init_geodetic)\n",
    "    self.ned2ecef_matrix = np.array([[-np.sin(lat)*np.cos(lon), -np.sin(lon), -np.cos(lat)*np.cos(lon)],\n",
    "                                     [-np.sin(lat)*np.sin(lon), np.cos(lon), -np.cos(lat)*np.sin(lon)],\n",
    "                                     [np.cos(lat), 0, -np.sin(lat)]])\n",
    "    self.ecef2ned_matrix = self.ned2ecef_matrix.T\n",
    "\n",
    "  @classmethod\n",
    "  def from_geodetic(cls, init_geodetic):\n",
    "    init_ecef = geodetic2ecef(init_geodetic)\n",
    "    return LocalCoord(init_geodetic, init_ecef)\n",
    "\n",
    "  @classmethod\n",
    "  def from_ecef(cls, init_ecef):\n",
    "    init_geodetic = ecef2geodetic(init_ecef)\n",
    "    return LocalCoord(init_geodetic, init_ecef)\n",
    "\n",
    "  def ecef2ned(self, ecef):\n",
    "    ecef = np.array(ecef)\n",
    "    return np.dot(self.ecef2ned_matrix, (ecef - self.init_ecef).T).T\n",
    "\n",
    "  def ned2ecef(self, ned):\n",
    "    ned = np.array(ned)\n",
    "    # Transpose so that init_ecef will broadcast correctly for 1d or 2d ned.\n",
    "    return (np.dot(self.ned2ecef_matrix, ned.T).T + self.init_ecef)\n",
    "\n",
    "  def geodetic2ned(self, geodetic):\n",
    "    ecef = geodetic2ecef(geodetic)\n",
    "    return self.ecef2ned(ecef)\n",
    "\n",
    "  def ned2geodetic(self, ned):\n",
    "    ecef = self.ned2ecef(ned)\n",
    "    return ecef2geodetic(ecef)"
   ]
  },
  {
   "cell_type": "code",
   "execution_count": null,
   "id": "91813bb6",
   "metadata": {},
   "outputs": [],
   "source": []
  }
 ],
 "metadata": {
  "kernelspec": {
   "display_name": "Python 3",
   "language": "python",
   "name": "python3"
  },
  "language_info": {
   "codemirror_mode": {
    "name": "ipython",
    "version": 3
   },
   "file_extension": ".py",
   "mimetype": "text/x-python",
   "name": "python",
   "nbconvert_exporter": "python",
   "pygments_lexer": "ipython3",
   "version": "3.8.8"
  }
 },
 "nbformat": 4,
 "nbformat_minor": 5
}
